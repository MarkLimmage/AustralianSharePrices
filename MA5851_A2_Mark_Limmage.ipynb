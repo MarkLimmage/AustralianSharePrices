{
  "cells": [
    {
      "cell_type": "markdown",
      "metadata": {
        "id": "view-in-github",
        "colab_type": "text"
      },
      "source": [
        "<a href=\"https://colab.research.google.com/github/MarkLimmage/AustralianSharePrices/blob/main/MA5851_A2_Mark_Limmage.ipynb\" target=\"_parent\"><img src=\"https://colab.research.google.com/assets/colab-badge.svg\" alt=\"Open In Colab\"/></a>"
      ]
    },
    {
      "cell_type": "code",
      "execution_count": null,
      "metadata": {
        "colab": {
          "base_uri": "https://localhost:8080/"
        },
        "id": "xvNGx4Lxmx0D",
        "outputId": "35f6efc6-29ad-4e1b-cfbf-98812e65b823"
      },
      "outputs": [
        {
          "output_type": "stream",
          "name": "stderr",
          "text": [
            "[nltk_data] Downloading package stopwords to /root/nltk_data...\n",
            "[nltk_data]   Package stopwords is already up-to-date!\n",
            "[nltk_data] Downloading package punkt to /root/nltk_data...\n",
            "[nltk_data]   Unzipping tokenizers/punkt.zip.\n"
          ]
        }
      ],
      "source": [
        "import re\n",
        "import json\n",
        "import csv\n",
        "from io import StringIO\n",
        "from bs4 import BeautifulSoup\n",
        "import requests\n",
        "import pandas as pd\n",
        "from tqdm.notebook import tqdm\n",
        "\n",
        "import re\n",
        "import nltk\n",
        "nltk.download('stopwords')\n",
        "nltk.download('punkt')\n",
        "from nltk.corpus import stopwords\n",
        "from nltk.stem.porter import PorterStemmer\n",
        "import numpy as np"
      ]
    },
    {
      "cell_type": "code",
      "execution_count": null,
      "metadata": {
        "colab": {
          "base_uri": "https://localhost:8080/",
          "height": 424
        },
        "id": "gy8uo--kqm1h",
        "outputId": "4f21535e-4a42-43a2-8b3e-8686c9adc811"
      },
      "outputs": [
        {
          "data": {
            "text/html": [
              "\n",
              "  <div id=\"df-8feea2ed-c066-4520-a9a5-51975332e116\">\n",
              "    <div class=\"colab-df-container\">\n",
              "      <div>\n",
              "<style scoped>\n",
              "    .dataframe tbody tr th:only-of-type {\n",
              "        vertical-align: middle;\n",
              "    }\n",
              "\n",
              "    .dataframe tbody tr th {\n",
              "        vertical-align: top;\n",
              "    }\n",
              "\n",
              "    .dataframe thead th {\n",
              "        text-align: right;\n",
              "    }\n",
              "</style>\n",
              "<table border=\"1\" class=\"dataframe\">\n",
              "  <thead>\n",
              "    <tr style=\"text-align: right;\">\n",
              "      <th></th>\n",
              "      <th>code</th>\n",
              "      <th>company</th>\n",
              "    </tr>\n",
              "  </thead>\n",
              "  <tbody>\n",
              "    <tr>\n",
              "      <th>0</th>\n",
              "      <td>360</td>\n",
              "      <td>LIFE360 Inc</td>\n",
              "    </tr>\n",
              "    <tr>\n",
              "      <th>1</th>\n",
              "      <td>3DP</td>\n",
              "      <td>Pointerra Ltd</td>\n",
              "    </tr>\n",
              "    <tr>\n",
              "      <th>2</th>\n",
              "      <td>A200</td>\n",
              "      <td>Betashares Australia 200 ETF</td>\n",
              "    </tr>\n",
              "    <tr>\n",
              "      <th>3</th>\n",
              "      <td>A2M</td>\n",
              "      <td>The a2 Milk Company Ltd</td>\n",
              "    </tr>\n",
              "    <tr>\n",
              "      <th>4</th>\n",
              "      <td>A4N</td>\n",
              "      <td>Alpha Hpa Ltd</td>\n",
              "    </tr>\n",
              "    <tr>\n",
              "      <th>...</th>\n",
              "      <td>...</td>\n",
              "      <td>...</td>\n",
              "    </tr>\n",
              "    <tr>\n",
              "      <th>493</th>\n",
              "      <td>XRO</td>\n",
              "      <td>Xero Ltd</td>\n",
              "    </tr>\n",
              "    <tr>\n",
              "      <th>494</th>\n",
              "      <td>YAL</td>\n",
              "      <td>Yancoal Australia Ltd</td>\n",
              "    </tr>\n",
              "    <tr>\n",
              "      <th>495</th>\n",
              "      <td>Z1P</td>\n",
              "      <td>ZIP Co Ltd</td>\n",
              "    </tr>\n",
              "    <tr>\n",
              "      <th>496</th>\n",
              "      <td>ZEL</td>\n",
              "      <td>Z Energy Ltd</td>\n",
              "    </tr>\n",
              "    <tr>\n",
              "      <th>497</th>\n",
              "      <td>ZIM</td>\n",
              "      <td>Zimplats Holdings Ltd</td>\n",
              "    </tr>\n",
              "  </tbody>\n",
              "</table>\n",
              "<p>498 rows × 2 columns</p>\n",
              "</div>\n",
              "      <button class=\"colab-df-convert\" onclick=\"convertToInteractive('df-8feea2ed-c066-4520-a9a5-51975332e116')\"\n",
              "              title=\"Convert this dataframe to an interactive table.\"\n",
              "              style=\"display:none;\">\n",
              "        \n",
              "  <svg xmlns=\"http://www.w3.org/2000/svg\" height=\"24px\"viewBox=\"0 0 24 24\"\n",
              "       width=\"24px\">\n",
              "    <path d=\"M0 0h24v24H0V0z\" fill=\"none\"/>\n",
              "    <path d=\"M18.56 5.44l.94 2.06.94-2.06 2.06-.94-2.06-.94-.94-2.06-.94 2.06-2.06.94zm-11 1L8.5 8.5l.94-2.06 2.06-.94-2.06-.94L8.5 2.5l-.94 2.06-2.06.94zm10 10l.94 2.06.94-2.06 2.06-.94-2.06-.94-.94-2.06-.94 2.06-2.06.94z\"/><path d=\"M17.41 7.96l-1.37-1.37c-.4-.4-.92-.59-1.43-.59-.52 0-1.04.2-1.43.59L10.3 9.45l-7.72 7.72c-.78.78-.78 2.05 0 2.83L4 21.41c.39.39.9.59 1.41.59.51 0 1.02-.2 1.41-.59l7.78-7.78 2.81-2.81c.8-.78.8-2.07 0-2.86zM5.41 20L4 18.59l7.72-7.72 1.47 1.35L5.41 20z\"/>\n",
              "  </svg>\n",
              "      </button>\n",
              "      \n",
              "  <style>\n",
              "    .colab-df-container {\n",
              "      display:flex;\n",
              "      flex-wrap:wrap;\n",
              "      gap: 12px;\n",
              "    }\n",
              "\n",
              "    .colab-df-convert {\n",
              "      background-color: #E8F0FE;\n",
              "      border: none;\n",
              "      border-radius: 50%;\n",
              "      cursor: pointer;\n",
              "      display: none;\n",
              "      fill: #1967D2;\n",
              "      height: 32px;\n",
              "      padding: 0 0 0 0;\n",
              "      width: 32px;\n",
              "    }\n",
              "\n",
              "    .colab-df-convert:hover {\n",
              "      background-color: #E2EBFA;\n",
              "      box-shadow: 0px 1px 2px rgba(60, 64, 67, 0.3), 0px 1px 3px 1px rgba(60, 64, 67, 0.15);\n",
              "      fill: #174EA6;\n",
              "    }\n",
              "\n",
              "    [theme=dark] .colab-df-convert {\n",
              "      background-color: #3B4455;\n",
              "      fill: #D2E3FC;\n",
              "    }\n",
              "\n",
              "    [theme=dark] .colab-df-convert:hover {\n",
              "      background-color: #434B5C;\n",
              "      box-shadow: 0px 1px 3px 1px rgba(0, 0, 0, 0.15);\n",
              "      filter: drop-shadow(0px 1px 2px rgba(0, 0, 0, 0.3));\n",
              "      fill: #FFFFFF;\n",
              "    }\n",
              "  </style>\n",
              "\n",
              "      <script>\n",
              "        const buttonEl =\n",
              "          document.querySelector('#df-8feea2ed-c066-4520-a9a5-51975332e116 button.colab-df-convert');\n",
              "        buttonEl.style.display =\n",
              "          google.colab.kernel.accessAllowed ? 'block' : 'none';\n",
              "\n",
              "        async function convertToInteractive(key) {\n",
              "          const element = document.querySelector('#df-8feea2ed-c066-4520-a9a5-51975332e116');\n",
              "          const dataTable =\n",
              "            await google.colab.kernel.invokeFunction('convertToInteractive',\n",
              "                                                     [key], {});\n",
              "          if (!dataTable) return;\n",
              "\n",
              "          const docLinkHtml = 'Like what you see? Visit the ' +\n",
              "            '<a target=\"_blank\" href=https://colab.research.google.com/notebooks/data_table.ipynb>data table notebook</a>'\n",
              "            + ' to learn more about interactive tables.';\n",
              "          element.innerHTML = '';\n",
              "          dataTable['output_type'] = 'display_data';\n",
              "          await google.colab.output.renderOutput(dataTable, element);\n",
              "          const docLink = document.createElement('div');\n",
              "          docLink.innerHTML = docLinkHtml;\n",
              "          element.appendChild(docLink);\n",
              "        }\n",
              "      </script>\n",
              "    </div>\n",
              "  </div>\n",
              "  "
            ],
            "text/plain": [
              "     code                       company\n",
              "0     360                 LIFE360 Inc  \n",
              "1     3DP                 Pointerra Ltd\n",
              "2    A200  Betashares Australia 200 ETF\n",
              "3     A2M       The a2 Milk Company Ltd\n",
              "4     A4N               Alpha Hpa Ltd  \n",
              "..    ...                           ...\n",
              "493   XRO                      Xero Ltd\n",
              "494   YAL         Yancoal Australia Ltd\n",
              "495   Z1P                    ZIP Co Ltd\n",
              "496   ZEL                  Z Energy Ltd\n",
              "497   ZIM         Zimplats Holdings Ltd\n",
              "\n",
              "[498 rows x 2 columns]"
            ]
          },
          "execution_count": 5,
          "metadata": {},
          "output_type": "execute_result"
        }
      ],
      "source": [
        "allords = pd.DataFrame(pd.read_csv('/content/drive/MyDrive/Colab Notebooks/MA5851/assessments/A2/allords.csv', encoding = \"ISO-8859-1\"))\n",
        "allords"
      ]
    },
    {
      "cell_type": "code",
      "execution_count": null,
      "metadata": {
        "colab": {
          "base_uri": "https://localhost:8080/"
        },
        "id": "ZtBlcYjdsdXP",
        "outputId": "05fc1006-4527-4fc6-b81a-5571056d3b32"
      },
      "outputs": [
        {
          "name": "stderr",
          "output_type": "stream",
          "text": [
            "100%|██████████| 498/498 [14:30<00:00,  1.75s/it]\n"
          ]
        }
      ],
      "source": [
        "company_url = 'https://au.finance.yahoo.com/quote/{}?p={}'\n",
        "headers = { 'User-Agent': 'Mozilla/5.0 (Windows NT 10.0; Win64; x64) AppleWebKit/537.36 (KHTML, like Gecko) Chrome/71.0.3578.98 Safari/537.36' }\n",
        "\n",
        "soup = dict()\n",
        "\n",
        "articles = pd.DataFrame( columns=['company', 'article_url', 'pub_time'])\n",
        "errors = pd.DataFrame( columns=['company', 'script'] )\n",
        "for index, row in tqdm(allords.iterrows(), total=allords.shape[0]):\n",
        "  company = str(row['code']) + '.AX'\n",
        "  json_key = str('YFINANCE:'+ company + '.mega')\n",
        "  page = company_url.format(company,company)\n",
        "  response = requests.get(page, headers=headers)\n",
        "  soup = BeautifulSoup(response.text, 'html.parser')\n",
        "  pattern = re.compile(r'\\s--\\sData\\s--\\s')\n",
        "  script_data=soup.find('script', text=pattern).contents[0]\n",
        "  company_page = json.loads(script_data[112:-12])\n",
        "  try:  \n",
        "    items = company_page['context']['dispatcher']['stores']['StreamStore']['streams'][json_key]['data']['stream_items']\n",
        "    for item in items:\n",
        "      try:\n",
        "        # print(company, item['url'], item['pubtime'])\n",
        "        articles = articles.append({'company':company, 'article_url':item['url'], 'pub_time':item['pubtime']}, ignore_index = True)\n",
        "      except:\n",
        "        pass\n",
        "  except Exception as e: \n",
        "    errors = errors.append({'company':company, 'script':company_page}, ignore_index=True)\n",
        "      \n",
        "\n"
      ]
    },
    {
      "cell_type": "code",
      "execution_count": null,
      "metadata": {
        "id": "XfMYlbsDeiKQ"
      },
      "outputs": [],
      "source": [
        "# Save this to disk so we don't have to run the query again (~10 min)\n",
        "articles.to_csv('/content/drive/MyDrive/Colab Notebooks/MA5851/assessments/A2/articles.csv')\n",
        "errors.to_csv('/content/drive/MyDrive/Colab Notebooks/MA5851/assessments/A2/errors.csv')"
      ]
    },
    {
      "cell_type": "code",
      "execution_count": null,
      "metadata": {
        "id": "eOW154s8D2bY"
      },
      "outputs": [],
      "source": [
        "articles = pd.read_csv('/content/drive/MyDrive/Colab Notebooks/MA5851/assessments/A2/articles.csv')\n",
        "errors = pd.read_csv('/content/drive/MyDrive/Colab Notebooks/MA5851/assessments/A2/errors.csv')"
      ]
    },
    {
      "cell_type": "code",
      "execution_count": null,
      "metadata": {
        "colab": {
          "base_uri": "https://localhost:8080/"
        },
        "id": "Yhn_4xHO1c8k",
        "outputId": "3e7e1428-23a0-45eb-f06d-926d087d95ef"
      },
      "outputs": [
        {
          "name": "stdout",
          "output_type": "stream",
          "text": [
            "stocks: 498  |  articles: 2958  |  errors: 35\n"
          ]
        }
      ],
      "source": [
        "print('stocks:', len(allords), ' | ', 'articles:',articles.shape[0],' | ', 'errors:', errors.shape[0])"
      ]
    },
    {
      "cell_type": "code",
      "execution_count": null,
      "metadata": {
        "colab": {
          "base_uri": "https://localhost:8080/",
          "height": 424
        },
        "id": "1TAfdTmGStG-",
        "outputId": "09c7cb70-8a0d-4d5e-9cf9-7e59fbcc7457"
      },
      "outputs": [
        {
          "data": {
            "text/html": [
              "\n",
              "  <div id=\"df-af6c86b5-d055-47a1-bf4e-2614be2c7bec\">\n",
              "    <div class=\"colab-df-container\">\n",
              "      <div>\n",
              "<style scoped>\n",
              "    .dataframe tbody tr th:only-of-type {\n",
              "        vertical-align: middle;\n",
              "    }\n",
              "\n",
              "    .dataframe tbody tr th {\n",
              "        vertical-align: top;\n",
              "    }\n",
              "\n",
              "    .dataframe thead th {\n",
              "        text-align: right;\n",
              "    }\n",
              "</style>\n",
              "<table border=\"1\" class=\"dataframe\">\n",
              "  <thead>\n",
              "    <tr style=\"text-align: right;\">\n",
              "      <th></th>\n",
              "      <th>Unnamed: 0</th>\n",
              "      <th>company</th>\n",
              "      <th>article_url</th>\n",
              "      <th>pub_time</th>\n",
              "    </tr>\n",
              "  </thead>\n",
              "  <tbody>\n",
              "    <tr>\n",
              "      <th>0</th>\n",
              "      <td>0</td>\n",
              "      <td>360.AX</td>\n",
              "      <td>https://au.finance.yahoo.com/news/type-shareho...</td>\n",
              "      <td>1660082471000</td>\n",
              "    </tr>\n",
              "    <tr>\n",
              "      <th>1</th>\n",
              "      <td>1</td>\n",
              "      <td>360.AX</td>\n",
              "      <td>https://au.finance.yahoo.com/news/life360-asx-...</td>\n",
              "      <td>1655347315000</td>\n",
              "    </tr>\n",
              "    <tr>\n",
              "      <th>2</th>\n",
              "      <td>2</td>\n",
              "      <td>360.AX</td>\n",
              "      <td>https://au.finance.yahoo.com/news/life360-asx-...</td>\n",
              "      <td>1651457394000</td>\n",
              "    </tr>\n",
              "    <tr>\n",
              "      <th>3</th>\n",
              "      <td>3</td>\n",
              "      <td>360.AX</td>\n",
              "      <td>https://au.finance.yahoo.com/news/au-5-90-life...</td>\n",
              "      <td>1648799910000</td>\n",
              "    </tr>\n",
              "    <tr>\n",
              "      <th>4</th>\n",
              "      <td>4</td>\n",
              "      <td>360.AX</td>\n",
              "      <td>https://au.finance.yahoo.com/news/apple-google...</td>\n",
              "      <td>1647522008000</td>\n",
              "    </tr>\n",
              "    <tr>\n",
              "      <th>...</th>\n",
              "      <td>...</td>\n",
              "      <td>...</td>\n",
              "      <td>...</td>\n",
              "      <td>...</td>\n",
              "    </tr>\n",
              "    <tr>\n",
              "      <th>2953</th>\n",
              "      <td>2953</td>\n",
              "      <td>ZIM.AX</td>\n",
              "      <td>https://au.finance.yahoo.com/news/zimplats-hol...</td>\n",
              "      <td>1652240144000</td>\n",
              "    </tr>\n",
              "    <tr>\n",
              "      <th>2954</th>\n",
              "      <td>2954</td>\n",
              "      <td>ZIM.AX</td>\n",
              "      <td>https://au.finance.yahoo.com/news/zimplats-hol...</td>\n",
              "      <td>1646801023000</td>\n",
              "    </tr>\n",
              "    <tr>\n",
              "      <th>2955</th>\n",
              "      <td>2955</td>\n",
              "      <td>ZIM.AX</td>\n",
              "      <td>https://au.finance.yahoo.com/news/zimplats-hol...</td>\n",
              "      <td>1642047389000</td>\n",
              "    </tr>\n",
              "    <tr>\n",
              "      <th>2956</th>\n",
              "      <td>2956</td>\n",
              "      <td>ZIM.AX</td>\n",
              "      <td>https://au.finance.yahoo.com/news/zimplats-hol...</td>\n",
              "      <td>1637199612000</td>\n",
              "    </tr>\n",
              "    <tr>\n",
              "      <th>2957</th>\n",
              "      <td>2957</td>\n",
              "      <td>ZIM.AX</td>\n",
              "      <td>https://au.finance.yahoo.com/news/zimplats-hol...</td>\n",
              "      <td>1632285203000</td>\n",
              "    </tr>\n",
              "  </tbody>\n",
              "</table>\n",
              "<p>2958 rows × 4 columns</p>\n",
              "</div>\n",
              "      <button class=\"colab-df-convert\" onclick=\"convertToInteractive('df-af6c86b5-d055-47a1-bf4e-2614be2c7bec')\"\n",
              "              title=\"Convert this dataframe to an interactive table.\"\n",
              "              style=\"display:none;\">\n",
              "        \n",
              "  <svg xmlns=\"http://www.w3.org/2000/svg\" height=\"24px\"viewBox=\"0 0 24 24\"\n",
              "       width=\"24px\">\n",
              "    <path d=\"M0 0h24v24H0V0z\" fill=\"none\"/>\n",
              "    <path d=\"M18.56 5.44l.94 2.06.94-2.06 2.06-.94-2.06-.94-.94-2.06-.94 2.06-2.06.94zm-11 1L8.5 8.5l.94-2.06 2.06-.94-2.06-.94L8.5 2.5l-.94 2.06-2.06.94zm10 10l.94 2.06.94-2.06 2.06-.94-2.06-.94-.94-2.06-.94 2.06-2.06.94z\"/><path d=\"M17.41 7.96l-1.37-1.37c-.4-.4-.92-.59-1.43-.59-.52 0-1.04.2-1.43.59L10.3 9.45l-7.72 7.72c-.78.78-.78 2.05 0 2.83L4 21.41c.39.39.9.59 1.41.59.51 0 1.02-.2 1.41-.59l7.78-7.78 2.81-2.81c.8-.78.8-2.07 0-2.86zM5.41 20L4 18.59l7.72-7.72 1.47 1.35L5.41 20z\"/>\n",
              "  </svg>\n",
              "      </button>\n",
              "      \n",
              "  <style>\n",
              "    .colab-df-container {\n",
              "      display:flex;\n",
              "      flex-wrap:wrap;\n",
              "      gap: 12px;\n",
              "    }\n",
              "\n",
              "    .colab-df-convert {\n",
              "      background-color: #E8F0FE;\n",
              "      border: none;\n",
              "      border-radius: 50%;\n",
              "      cursor: pointer;\n",
              "      display: none;\n",
              "      fill: #1967D2;\n",
              "      height: 32px;\n",
              "      padding: 0 0 0 0;\n",
              "      width: 32px;\n",
              "    }\n",
              "\n",
              "    .colab-df-convert:hover {\n",
              "      background-color: #E2EBFA;\n",
              "      box-shadow: 0px 1px 2px rgba(60, 64, 67, 0.3), 0px 1px 3px 1px rgba(60, 64, 67, 0.15);\n",
              "      fill: #174EA6;\n",
              "    }\n",
              "\n",
              "    [theme=dark] .colab-df-convert {\n",
              "      background-color: #3B4455;\n",
              "      fill: #D2E3FC;\n",
              "    }\n",
              "\n",
              "    [theme=dark] .colab-df-convert:hover {\n",
              "      background-color: #434B5C;\n",
              "      box-shadow: 0px 1px 3px 1px rgba(0, 0, 0, 0.15);\n",
              "      filter: drop-shadow(0px 1px 2px rgba(0, 0, 0, 0.3));\n",
              "      fill: #FFFFFF;\n",
              "    }\n",
              "  </style>\n",
              "\n",
              "      <script>\n",
              "        const buttonEl =\n",
              "          document.querySelector('#df-af6c86b5-d055-47a1-bf4e-2614be2c7bec button.colab-df-convert');\n",
              "        buttonEl.style.display =\n",
              "          google.colab.kernel.accessAllowed ? 'block' : 'none';\n",
              "\n",
              "        async function convertToInteractive(key) {\n",
              "          const element = document.querySelector('#df-af6c86b5-d055-47a1-bf4e-2614be2c7bec');\n",
              "          const dataTable =\n",
              "            await google.colab.kernel.invokeFunction('convertToInteractive',\n",
              "                                                     [key], {});\n",
              "          if (!dataTable) return;\n",
              "\n",
              "          const docLinkHtml = 'Like what you see? Visit the ' +\n",
              "            '<a target=\"_blank\" href=https://colab.research.google.com/notebooks/data_table.ipynb>data table notebook</a>'\n",
              "            + ' to learn more about interactive tables.';\n",
              "          element.innerHTML = '';\n",
              "          dataTable['output_type'] = 'display_data';\n",
              "          await google.colab.output.renderOutput(dataTable, element);\n",
              "          const docLink = document.createElement('div');\n",
              "          docLink.innerHTML = docLinkHtml;\n",
              "          element.appendChild(docLink);\n",
              "        }\n",
              "      </script>\n",
              "    </div>\n",
              "  </div>\n",
              "  "
            ],
            "text/plain": [
              "      Unnamed: 0 company                                        article_url  \\\n",
              "0              0  360.AX  https://au.finance.yahoo.com/news/type-shareho...   \n",
              "1              1  360.AX  https://au.finance.yahoo.com/news/life360-asx-...   \n",
              "2              2  360.AX  https://au.finance.yahoo.com/news/life360-asx-...   \n",
              "3              3  360.AX  https://au.finance.yahoo.com/news/au-5-90-life...   \n",
              "4              4  360.AX  https://au.finance.yahoo.com/news/apple-google...   \n",
              "...          ...     ...                                                ...   \n",
              "2953        2953  ZIM.AX  https://au.finance.yahoo.com/news/zimplats-hol...   \n",
              "2954        2954  ZIM.AX  https://au.finance.yahoo.com/news/zimplats-hol...   \n",
              "2955        2955  ZIM.AX  https://au.finance.yahoo.com/news/zimplats-hol...   \n",
              "2956        2956  ZIM.AX  https://au.finance.yahoo.com/news/zimplats-hol...   \n",
              "2957        2957  ZIM.AX  https://au.finance.yahoo.com/news/zimplats-hol...   \n",
              "\n",
              "           pub_time  \n",
              "0     1660082471000  \n",
              "1     1655347315000  \n",
              "2     1651457394000  \n",
              "3     1648799910000  \n",
              "4     1647522008000  \n",
              "...             ...  \n",
              "2953  1652240144000  \n",
              "2954  1646801023000  \n",
              "2955  1642047389000  \n",
              "2956  1637199612000  \n",
              "2957  1632285203000  \n",
              "\n",
              "[2958 rows x 4 columns]"
            ]
          },
          "execution_count": 7,
          "metadata": {},
          "output_type": "execute_result"
        }
      ],
      "source": [
        "articles"
      ]
    },
    {
      "cell_type": "code",
      "execution_count": null,
      "metadata": {
        "colab": {
          "base_uri": "https://localhost:8080/"
        },
        "id": "zz2APO88E8Qn",
        "outputId": "d5d41eb7-0df4-4e09-f7af-0d8ece81488b"
      },
      "outputs": [
        {
          "name": "stderr",
          "output_type": "stream",
          "text": [
            "100%|██████████| 2958/2958 [42:05<00:00,  1.17it/s]\n"
          ]
        }
      ],
      "source": [
        "\n",
        "headers = { 'User-Agent': 'Mozilla/5.0 (Windows NT 10.0; Win64; x64) AppleWebKit/537.36 (KHTML, like Gecko) Chrome/71.0.3578.98 Safari/537.36' }\n",
        "\n",
        "soup = dict()\n",
        "article_errors = list()\n",
        "\n",
        "articles['story'] = ''\n",
        "article_errors = pd.DataFrame( columns=['article', 'script'] )\n",
        "for index, row in tqdm(articles.iterrows(), total=articles.shape[0]):\n",
        "  page = row['article_url']\n",
        "  response = requests.get(page, headers=headers)\n",
        "  soup = BeautifulSoup(response.text, 'html.parser')\n",
        "  try:  \n",
        "    article_div=soup.find_all('div', class_='caas-body')[0]\n",
        "    articles.loc[index, 'story'] = str(article_div)[23:-7]\n",
        "  except Exception as e: \n",
        "    article_errors.append([index])"
      ]
    },
    {
      "cell_type": "code",
      "execution_count": null,
      "metadata": {
        "colab": {
          "base_uri": "https://localhost:8080/"
        },
        "id": "f2B0ItQnWei3",
        "outputId": "c545d8b3-5f90-4280-e9b3-efbb7f4dc529"
      },
      "outputs": [
        {
          "data": {
            "text/plain": [
              "(2958, 5)"
            ]
          },
          "execution_count": 13,
          "metadata": {},
          "output_type": "execute_result"
        }
      ],
      "source": [
        "articles.shape"
      ]
    },
    {
      "cell_type": "code",
      "execution_count": null,
      "metadata": {
        "id": "kqRt452dJqPd"
      },
      "outputs": [],
      "source": [
        "articles.to_csv('/content/drive/MyDrive/Colab Notebooks/MA5851/assessments/A2/stories.csv')"
      ]
    },
    {
      "cell_type": "code",
      "execution_count": null,
      "metadata": {
        "id": "nB8uOD9ieE2C"
      },
      "outputs": [],
      "source": [
        "stories = pd.read_csv('/content/drive/MyDrive/Colab Notebooks/MA5851/assessments/A2/stories.csv')"
      ]
    },
    {
      "cell_type": "code",
      "execution_count": null,
      "metadata": {
        "id": "9MUKB2znVGRK"
      },
      "outputs": [],
      "source": [
        "stories = articles"
      ]
    },
    {
      "cell_type": "code",
      "execution_count": null,
      "metadata": {
        "colab": {
          "base_uri": "https://localhost:8080/",
          "height": 424
        },
        "id": "dzFO79PyVJgh",
        "outputId": "39e950c6-ac5e-4fb1-fe76-912ed1a1abdc"
      },
      "outputs": [
        {
          "data": {
            "text/html": [
              "\n",
              "  <div id=\"df-e9872488-3c7a-4588-82d2-da3612e71a85\">\n",
              "    <div class=\"colab-df-container\">\n",
              "      <div>\n",
              "<style scoped>\n",
              "    .dataframe tbody tr th:only-of-type {\n",
              "        vertical-align: middle;\n",
              "    }\n",
              "\n",
              "    .dataframe tbody tr th {\n",
              "        vertical-align: top;\n",
              "    }\n",
              "\n",
              "    .dataframe thead th {\n",
              "        text-align: right;\n",
              "    }\n",
              "</style>\n",
              "<table border=\"1\" class=\"dataframe\">\n",
              "  <thead>\n",
              "    <tr style=\"text-align: right;\">\n",
              "      <th></th>\n",
              "      <th>Unnamed: 0</th>\n",
              "      <th>Unnamed: 0.1</th>\n",
              "      <th>company</th>\n",
              "      <th>article_url</th>\n",
              "      <th>pub_time</th>\n",
              "      <th>story</th>\n",
              "    </tr>\n",
              "  </thead>\n",
              "  <tbody>\n",
              "    <tr>\n",
              "      <th>0</th>\n",
              "      <td>0</td>\n",
              "      <td>0</td>\n",
              "      <td>360.AX</td>\n",
              "      <td>https://au.finance.yahoo.com/news/type-shareho...</td>\n",
              "      <td>1660082471000</td>\n",
              "      <td>&lt;p&gt;If you want to know who really controls Lif...</td>\n",
              "    </tr>\n",
              "    <tr>\n",
              "      <th>1</th>\n",
              "      <td>1</td>\n",
              "      <td>1</td>\n",
              "      <td>360.AX</td>\n",
              "      <td>https://au.finance.yahoo.com/news/life360-asx-...</td>\n",
              "      <td>1655347315000</td>\n",
              "      <td>&lt;p&gt;Warren Buffett famously said, 'Volatility i...</td>\n",
              "    </tr>\n",
              "    <tr>\n",
              "      <th>2</th>\n",
              "      <td>2</td>\n",
              "      <td>2</td>\n",
              "      <td>360.AX</td>\n",
              "      <td>https://au.finance.yahoo.com/news/life360-asx-...</td>\n",
              "      <td>1651457394000</td>\n",
              "      <td>&lt;p&gt;The simplest way to benefit from a rising m...</td>\n",
              "    </tr>\n",
              "    <tr>\n",
              "      <th>3</th>\n",
              "      <td>3</td>\n",
              "      <td>3</td>\n",
              "      <td>360.AX</td>\n",
              "      <td>https://au.finance.yahoo.com/news/au-5-90-life...</td>\n",
              "      <td>1648799910000</td>\n",
              "      <td>&lt;p&gt;Life360, Inc. (&lt;a class=\"link \" data-ylk=\"s...</td>\n",
              "    </tr>\n",
              "    <tr>\n",
              "      <th>4</th>\n",
              "      <td>4</td>\n",
              "      <td>4</td>\n",
              "      <td>360.AX</td>\n",
              "      <td>https://au.finance.yahoo.com/news/apple-google...</td>\n",
              "      <td>1647522008000</td>\n",
              "      <td>&lt;p&gt;(Bloomberg) -- A push in Congress to regula...</td>\n",
              "    </tr>\n",
              "    <tr>\n",
              "      <th>...</th>\n",
              "      <td>...</td>\n",
              "      <td>...</td>\n",
              "      <td>...</td>\n",
              "      <td>...</td>\n",
              "      <td>...</td>\n",
              "      <td>...</td>\n",
              "    </tr>\n",
              "    <tr>\n",
              "      <th>2953</th>\n",
              "      <td>2953</td>\n",
              "      <td>2953</td>\n",
              "      <td>ZIM.AX</td>\n",
              "      <td>https://au.finance.yahoo.com/news/zimplats-hol...</td>\n",
              "      <td>1652240144000</td>\n",
              "      <td>&lt;p&gt;Zimplats Holdings' (ASX:ZIM) stock is up by...</td>\n",
              "    </tr>\n",
              "    <tr>\n",
              "      <th>2954</th>\n",
              "      <td>2954</td>\n",
              "      <td>2954</td>\n",
              "      <td>ZIM.AX</td>\n",
              "      <td>https://au.finance.yahoo.com/news/zimplats-hol...</td>\n",
              "      <td>1646801023000</td>\n",
              "      <td>&lt;p&gt;What are the early trends we should look fo...</td>\n",
              "    </tr>\n",
              "    <tr>\n",
              "      <th>2955</th>\n",
              "      <td>2955</td>\n",
              "      <td>2955</td>\n",
              "      <td>ZIM.AX</td>\n",
              "      <td>https://au.finance.yahoo.com/news/zimplats-hol...</td>\n",
              "      <td>1642047389000</td>\n",
              "      <td>&lt;p&gt;When you buy shares in a company, it's wort...</td>\n",
              "    </tr>\n",
              "    <tr>\n",
              "      <th>2956</th>\n",
              "      <td>2956</td>\n",
              "      <td>2956</td>\n",
              "      <td>ZIM.AX</td>\n",
              "      <td>https://au.finance.yahoo.com/news/zimplats-hol...</td>\n",
              "      <td>1637199612000</td>\n",
              "      <td>&lt;p&gt;Zimplats Holdings' (ASX:ZIM) stock is up by...</td>\n",
              "    </tr>\n",
              "    <tr>\n",
              "      <th>2957</th>\n",
              "      <td>2957</td>\n",
              "      <td>2957</td>\n",
              "      <td>ZIM.AX</td>\n",
              "      <td>https://au.finance.yahoo.com/news/zimplats-hol...</td>\n",
              "      <td>1632285203000</td>\n",
              "      <td>&lt;p&gt;What trends should we look for it we want t...</td>\n",
              "    </tr>\n",
              "  </tbody>\n",
              "</table>\n",
              "<p>2958 rows × 6 columns</p>\n",
              "</div>\n",
              "      <button class=\"colab-df-convert\" onclick=\"convertToInteractive('df-e9872488-3c7a-4588-82d2-da3612e71a85')\"\n",
              "              title=\"Convert this dataframe to an interactive table.\"\n",
              "              style=\"display:none;\">\n",
              "        \n",
              "  <svg xmlns=\"http://www.w3.org/2000/svg\" height=\"24px\"viewBox=\"0 0 24 24\"\n",
              "       width=\"24px\">\n",
              "    <path d=\"M0 0h24v24H0V0z\" fill=\"none\"/>\n",
              "    <path d=\"M18.56 5.44l.94 2.06.94-2.06 2.06-.94-2.06-.94-.94-2.06-.94 2.06-2.06.94zm-11 1L8.5 8.5l.94-2.06 2.06-.94-2.06-.94L8.5 2.5l-.94 2.06-2.06.94zm10 10l.94 2.06.94-2.06 2.06-.94-2.06-.94-.94-2.06-.94 2.06-2.06.94z\"/><path d=\"M17.41 7.96l-1.37-1.37c-.4-.4-.92-.59-1.43-.59-.52 0-1.04.2-1.43.59L10.3 9.45l-7.72 7.72c-.78.78-.78 2.05 0 2.83L4 21.41c.39.39.9.59 1.41.59.51 0 1.02-.2 1.41-.59l7.78-7.78 2.81-2.81c.8-.78.8-2.07 0-2.86zM5.41 20L4 18.59l7.72-7.72 1.47 1.35L5.41 20z\"/>\n",
              "  </svg>\n",
              "      </button>\n",
              "      \n",
              "  <style>\n",
              "    .colab-df-container {\n",
              "      display:flex;\n",
              "      flex-wrap:wrap;\n",
              "      gap: 12px;\n",
              "    }\n",
              "\n",
              "    .colab-df-convert {\n",
              "      background-color: #E8F0FE;\n",
              "      border: none;\n",
              "      border-radius: 50%;\n",
              "      cursor: pointer;\n",
              "      display: none;\n",
              "      fill: #1967D2;\n",
              "      height: 32px;\n",
              "      padding: 0 0 0 0;\n",
              "      width: 32px;\n",
              "    }\n",
              "\n",
              "    .colab-df-convert:hover {\n",
              "      background-color: #E2EBFA;\n",
              "      box-shadow: 0px 1px 2px rgba(60, 64, 67, 0.3), 0px 1px 3px 1px rgba(60, 64, 67, 0.15);\n",
              "      fill: #174EA6;\n",
              "    }\n",
              "\n",
              "    [theme=dark] .colab-df-convert {\n",
              "      background-color: #3B4455;\n",
              "      fill: #D2E3FC;\n",
              "    }\n",
              "\n",
              "    [theme=dark] .colab-df-convert:hover {\n",
              "      background-color: #434B5C;\n",
              "      box-shadow: 0px 1px 3px 1px rgba(0, 0, 0, 0.15);\n",
              "      filter: drop-shadow(0px 1px 2px rgba(0, 0, 0, 0.3));\n",
              "      fill: #FFFFFF;\n",
              "    }\n",
              "  </style>\n",
              "\n",
              "      <script>\n",
              "        const buttonEl =\n",
              "          document.querySelector('#df-e9872488-3c7a-4588-82d2-da3612e71a85 button.colab-df-convert');\n",
              "        buttonEl.style.display =\n",
              "          google.colab.kernel.accessAllowed ? 'block' : 'none';\n",
              "\n",
              "        async function convertToInteractive(key) {\n",
              "          const element = document.querySelector('#df-e9872488-3c7a-4588-82d2-da3612e71a85');\n",
              "          const dataTable =\n",
              "            await google.colab.kernel.invokeFunction('convertToInteractive',\n",
              "                                                     [key], {});\n",
              "          if (!dataTable) return;\n",
              "\n",
              "          const docLinkHtml = 'Like what you see? Visit the ' +\n",
              "            '<a target=\"_blank\" href=https://colab.research.google.com/notebooks/data_table.ipynb>data table notebook</a>'\n",
              "            + ' to learn more about interactive tables.';\n",
              "          element.innerHTML = '';\n",
              "          dataTable['output_type'] = 'display_data';\n",
              "          await google.colab.output.renderOutput(dataTable, element);\n",
              "          const docLink = document.createElement('div');\n",
              "          docLink.innerHTML = docLinkHtml;\n",
              "          element.appendChild(docLink);\n",
              "        }\n",
              "      </script>\n",
              "    </div>\n",
              "  </div>\n",
              "  "
            ],
            "text/plain": [
              "      Unnamed: 0  Unnamed: 0.1 company  \\\n",
              "0              0             0  360.AX   \n",
              "1              1             1  360.AX   \n",
              "2              2             2  360.AX   \n",
              "3              3             3  360.AX   \n",
              "4              4             4  360.AX   \n",
              "...          ...           ...     ...   \n",
              "2953        2953          2953  ZIM.AX   \n",
              "2954        2954          2954  ZIM.AX   \n",
              "2955        2955          2955  ZIM.AX   \n",
              "2956        2956          2956  ZIM.AX   \n",
              "2957        2957          2957  ZIM.AX   \n",
              "\n",
              "                                            article_url       pub_time  \\\n",
              "0     https://au.finance.yahoo.com/news/type-shareho...  1660082471000   \n",
              "1     https://au.finance.yahoo.com/news/life360-asx-...  1655347315000   \n",
              "2     https://au.finance.yahoo.com/news/life360-asx-...  1651457394000   \n",
              "3     https://au.finance.yahoo.com/news/au-5-90-life...  1648799910000   \n",
              "4     https://au.finance.yahoo.com/news/apple-google...  1647522008000   \n",
              "...                                                 ...            ...   \n",
              "2953  https://au.finance.yahoo.com/news/zimplats-hol...  1652240144000   \n",
              "2954  https://au.finance.yahoo.com/news/zimplats-hol...  1646801023000   \n",
              "2955  https://au.finance.yahoo.com/news/zimplats-hol...  1642047389000   \n",
              "2956  https://au.finance.yahoo.com/news/zimplats-hol...  1637199612000   \n",
              "2957  https://au.finance.yahoo.com/news/zimplats-hol...  1632285203000   \n",
              "\n",
              "                                                  story  \n",
              "0     <p>If you want to know who really controls Lif...  \n",
              "1     <p>Warren Buffett famously said, 'Volatility i...  \n",
              "2     <p>The simplest way to benefit from a rising m...  \n",
              "3     <p>Life360, Inc. (<a class=\"link \" data-ylk=\"s...  \n",
              "4     <p>(Bloomberg) -- A push in Congress to regula...  \n",
              "...                                                 ...  \n",
              "2953  <p>Zimplats Holdings' (ASX:ZIM) stock is up by...  \n",
              "2954  <p>What are the early trends we should look fo...  \n",
              "2955  <p>When you buy shares in a company, it's wort...  \n",
              "2956  <p>Zimplats Holdings' (ASX:ZIM) stock is up by...  \n",
              "2957  <p>What trends should we look for it we want t...  \n",
              "\n",
              "[2958 rows x 6 columns]"
            ]
          },
          "execution_count": 4,
          "metadata": {},
          "output_type": "execute_result"
        }
      ],
      "source": [
        "stories"
      ]
    },
    {
      "cell_type": "code",
      "execution_count": null,
      "metadata": {
        "colab": {
          "base_uri": "https://localhost:8080/"
        },
        "id": "o6aaZeNEVN6S",
        "outputId": "858ea8f3-6aa4-49e6-f99c-604fc61ecc49"
      },
      "outputs": [
        {
          "name": "stdout",
          "output_type": "stream",
          "text": [
            "3.7.13\n"
          ]
        }
      ],
      "source": [
        "from platform import python_version\n",
        "print(python_version())"
      ]
    },
    {
      "cell_type": "code",
      "execution_count": null,
      "metadata": {
        "id": "d37_VjUYeZuy"
      },
      "outputs": [],
      "source": [
        "def cleanhtml(raw_html):\n",
        "  cleanr = re.compile('<.*?>')\n",
        "  cleantext = re.sub(cleanr, '', raw_html)\n",
        "  return cleantext\n",
        "\n",
        "def remove_by_regex(texts, regexp):\n",
        "        output_texts = regexp.sub(\"\",texts)\n",
        "        return output_texts\n",
        "    \n",
        "def remove_urls(input_text):\n",
        "        return remove_by_regex(input_text, re.compile(r\"http.?://[^\\s]+[\\s]?\"))\n",
        "    \n",
        "def text_preprocessing(uncleaned_text):  \n",
        "    review = cleanhtml(str(uncleaned_text))  \n",
        "    review = re.sub('[^a-zA-Z0-9]', ' ', review)\n",
        "    review = review.lower()\n",
        "    review = remove_urls(review)\n",
        "    review = review.split()\n",
        "    ps = PorterStemmer()\n",
        "    all_stopwords = stopwords.words('english')\n",
        "    all_stopwords.remove('not')\n",
        "    review = [ps.stem(word) for word in review if not word in set(all_stopwords)]\n",
        "    review = ' '.join(review)\n",
        "    return review\n",
        "\n",
        "    "
      ]
    },
    {
      "cell_type": "code",
      "execution_count": null,
      "metadata": {
        "id": "ot32vvMIepu5"
      },
      "outputs": [],
      "source": [
        "stories['clean_story'] = stories['story'].apply(lambda x: text_preprocessing(x) )"
      ]
    },
    {
      "cell_type": "code",
      "execution_count": null,
      "metadata": {
        "colab": {
          "base_uri": "https://localhost:8080/"
        },
        "id": "OFS5KzxHfh-Z",
        "outputId": "08031907-3042-483e-90d5-a6f53a8e5567"
      },
      "outputs": [
        {
          "output_type": "execute_result",
          "data": {
            "text/plain": [
              "0       want know realli control life360 inc asx 360 l...\n",
              "1       warren buffett famous said volatil far synonym...\n",
              "2       simplest way benefit rise market buy index fun...\n",
              "3       life360 inc asx 360 might not larg cap stock r...\n",
              "4       bloomberg push congress regul digit app store ...\n",
              "                              ...                        \n",
              "2953    zimplat hold asx zim stock consider 21 past th...\n",
              "2954    earli trend look identifi stock could multipli...\n",
              "2955    buy share compani worth keep mind possibl coul...\n",
              "2956    zimplat hold asx zim stock consider 17 past th...\n",
              "2957    trend look want identifi stock multipli valu l...\n",
              "Name: clean_story, Length: 2958, dtype: object"
            ]
          },
          "metadata": {},
          "execution_count": 51
        }
      ],
      "source": [
        "stories['clean_story']"
      ]
    },
    {
      "cell_type": "code",
      "source": [
        "\n",
        "corpus = list()\n",
        "all_words = ' '.join([text for text in stories['clean_story']]) \n",
        "all_words = all_words.split() \n",
        "\n",
        "all_words = nltk.FreqDist(all_words)\n",
        "\n",
        "# create dataframe\n",
        "all_words_df = pd.DataFrame({'Category': list(all_words.keys()), \n",
        "                              'Count': list(all_words.values())})\n",
        "g = all_words_df.nlargest(columns=\"Count\", n = 25) \n",
        "plt.figure(figsize=(6,6)) \n",
        "ax = sns.barplot(data=g, x= \"Count\", y = \"Category\") \n",
        "ax.set(ylabel = 'Count') \n",
        "plt.show()"
      ],
      "metadata": {
        "colab": {
          "base_uri": "https://localhost:8080/",
          "height": 388
        },
        "id": "LzkjfVvQnd8u",
        "outputId": "5c028f03-9a1e-4db1-9383-0590e9b1c230"
      },
      "execution_count": null,
      "outputs": [
        {
          "output_type": "display_data",
          "data": {
            "text/plain": [
              "<Figure size 432x432 with 1 Axes>"
            ],
            "image/png": "[encoded data removed]"
          },
          "metadata": {
            "needs_background": "light"
          }
        }
      ]
    },
    {
      "cell_type": "code",
      "source": [
        "all_words_df"
      ],
      "metadata": {
        "colab": {
          "base_uri": "https://localhost:8080/",
          "height": 424
        },
        "id": "f9RyWqH4nsxG",
        "outputId": "bf021999-aded-4f70-b8af-d2ab7259db52"
      },
      "execution_count": null,
      "outputs": [
        {
          "output_type": "execute_result",
          "data": {
            "text/plain": [
              "          Category  Count\n",
              "0             want   1785\n",
              "1             know   1892\n",
              "2           realli    674\n",
              "3          control    574\n",
              "4          life360     89\n",
              "...            ...    ...\n",
              "26227         483m      1\n",
              "26228         711m      1\n",
              "26229         797m      1\n",
              "26230  rocezimplat      1\n",
              "26231          356      1\n",
              "\n",
              "[26232 rows x 2 columns]"
            ],
            "text/html": [
              "\n",
              "  <div id=\"df-bc04f334-2cd8-47bb-85a2-b8caa84669c5\">\n",
              "    <div class=\"colab-df-container\">\n",
              "      <div>\n",
              "<style scoped>\n",
              "    .dataframe tbody tr th:only-of-type {\n",
              "        vertical-align: middle;\n",
              "    }\n",
              "\n",
              "    .dataframe tbody tr th {\n",
              "        vertical-align: top;\n",
              "    }\n",
              "\n",
              "    .dataframe thead th {\n",
              "        text-align: right;\n",
              "    }\n",
              "</style>\n",
              "<table border=\"1\" class=\"dataframe\">\n",
              "  <thead>\n",
              "    <tr style=\"text-align: right;\">\n",
              "      <th></th>\n",
              "      <th>Category</th>\n",
              "      <th>Count</th>\n",
              "    </tr>\n",
              "  </thead>\n",
              "  <tbody>\n",
              "    <tr>\n",
              "      <th>0</th>\n",
              "      <td>want</td>\n",
              "      <td>1785</td>\n",
              "    </tr>\n",
              "    <tr>\n",
              "      <th>1</th>\n",
              "      <td>know</td>\n",
              "      <td>1892</td>\n",
              "    </tr>\n",
              "    <tr>\n",
              "      <th>2</th>\n",
              "      <td>realli</td>\n",
              "      <td>674</td>\n",
              "    </tr>\n",
              "    <tr>\n",
              "      <th>3</th>\n",
              "      <td>control</td>\n",
              "      <td>574</td>\n",
              "    </tr>\n",
              "    <tr>\n",
              "      <th>4</th>\n",
              "      <td>life360</td>\n",
              "      <td>89</td>\n",
              "    </tr>\n",
              "    <tr>\n",
              "      <th>...</th>\n",
              "      <td>...</td>\n",
              "      <td>...</td>\n",
              "    </tr>\n",
              "    <tr>\n",
              "      <th>26227</th>\n",
              "      <td>483m</td>\n",
              "      <td>1</td>\n",
              "    </tr>\n",
              "    <tr>\n",
              "      <th>26228</th>\n",
              "      <td>711m</td>\n",
              "      <td>1</td>\n",
              "    </tr>\n",
              "    <tr>\n",
              "      <th>26229</th>\n",
              "      <td>797m</td>\n",
              "      <td>1</td>\n",
              "    </tr>\n",
              "    <tr>\n",
              "      <th>26230</th>\n",
              "      <td>rocezimplat</td>\n",
              "      <td>1</td>\n",
              "    </tr>\n",
              "    <tr>\n",
              "      <th>26231</th>\n",
              "      <td>356</td>\n",
              "      <td>1</td>\n",
              "    </tr>\n",
              "  </tbody>\n",
              "</table>\n",
              "<p>26232 rows × 2 columns</p>\n",
              "</div>\n",
              "      <button class=\"colab-df-convert\" onclick=\"convertToInteractive('df-bc04f334-2cd8-47bb-85a2-b8caa84669c5')\"\n",
              "              title=\"Convert this dataframe to an interactive table.\"\n",
              "              style=\"display:none;\">\n",
              "        \n",
              "  <svg xmlns=\"http://www.w3.org/2000/svg\" height=\"24px\"viewBox=\"0 0 24 24\"\n",
              "       width=\"24px\">\n",
              "    <path d=\"M0 0h24v24H0V0z\" fill=\"none\"/>\n",
              "    <path d=\"M18.56 5.44l.94 2.06.94-2.06 2.06-.94-2.06-.94-.94-2.06-.94 2.06-2.06.94zm-11 1L8.5 8.5l.94-2.06 2.06-.94-2.06-.94L8.5 2.5l-.94 2.06-2.06.94zm10 10l.94 2.06.94-2.06 2.06-.94-2.06-.94-.94-2.06-.94 2.06-2.06.94z\"/><path d=\"M17.41 7.96l-1.37-1.37c-.4-.4-.92-.59-1.43-.59-.52 0-1.04.2-1.43.59L10.3 9.45l-7.72 7.72c-.78.78-.78 2.05 0 2.83L4 21.41c.39.39.9.59 1.41.59.51 0 1.02-.2 1.41-.59l7.78-7.78 2.81-2.81c.8-.78.8-2.07 0-2.86zM5.41 20L4 18.59l7.72-7.72 1.47 1.35L5.41 20z\"/>\n",
              "  </svg>\n",
              "      </button>\n",
              "      \n",
              "  <style>\n",
              "    .colab-df-container {\n",
              "      display:flex;\n",
              "      flex-wrap:wrap;\n",
              "      gap: 12px;\n",
              "    }\n",
              "\n",
              "    .colab-df-convert {\n",
              "      background-color: #E8F0FE;\n",
              "      border: none;\n",
              "      border-radius: 50%;\n",
              "      cursor: pointer;\n",
              "      display: none;\n",
              "      fill: #1967D2;\n",
              "      height: 32px;\n",
              "      padding: 0 0 0 0;\n",
              "      width: 32px;\n",
              "    }\n",
              "\n",
              "    .colab-df-convert:hover {\n",
              "      background-color: #E2EBFA;\n",
              "      box-shadow: 0px 1px 2px rgba(60, 64, 67, 0.3), 0px 1px 3px 1px rgba(60, 64, 67, 0.15);\n",
              "      fill: #174EA6;\n",
              "    }\n",
              "\n",
              "    [theme=dark] .colab-df-convert {\n",
              "      background-color: #3B4455;\n",
              "      fill: #D2E3FC;\n",
              "    }\n",
              "\n",
              "    [theme=dark] .colab-df-convert:hover {\n",
              "      background-color: #434B5C;\n",
              "      box-shadow: 0px 1px 3px 1px rgba(0, 0, 0, 0.15);\n",
              "      filter: drop-shadow(0px 1px 2px rgba(0, 0, 0, 0.3));\n",
              "      fill: #FFFFFF;\n",
              "    }\n",
              "  </style>\n",
              "\n",
              "      <script>\n",
              "        const buttonEl =\n",
              "          document.querySelector('#df-bc04f334-2cd8-47bb-85a2-b8caa84669c5 button.colab-df-convert');\n",
              "        buttonEl.style.display =\n",
              "          google.colab.kernel.accessAllowed ? 'block' : 'none';\n",
              "\n",
              "        async function convertToInteractive(key) {\n",
              "          const element = document.querySelector('#df-bc04f334-2cd8-47bb-85a2-b8caa84669c5');\n",
              "          const dataTable =\n",
              "            await google.colab.kernel.invokeFunction('convertToInteractive',\n",
              "                                                     [key], {});\n",
              "          if (!dataTable) return;\n",
              "\n",
              "          const docLinkHtml = 'Like what you see? Visit the ' +\n",
              "            '<a target=\"_blank\" href=https://colab.research.google.com/notebooks/data_table.ipynb>data table notebook</a>'\n",
              "            + ' to learn more about interactive tables.';\n",
              "          element.innerHTML = '';\n",
              "          dataTable['output_type'] = 'display_data';\n",
              "          await google.colab.output.renderOutput(dataTable, element);\n",
              "          const docLink = document.createElement('div');\n",
              "          docLink.innerHTML = docLinkHtml;\n",
              "          element.appendChild(docLink);\n",
              "        }\n",
              "      </script>\n",
              "    </div>\n",
              "  </div>\n",
              "  "
            ]
          },
          "metadata": {},
          "execution_count": 69
        }
      ]
    },
    {
      "cell_type": "code",
      "execution_count": null,
      "metadata": {
        "colab": {
          "base_uri": "https://localhost:8080/"
        },
        "id": "F4STDZmSgRmh",
        "outputId": "3c0afef3-5ac2-40d2-f81a-d21c033783cc"
      },
      "outputs": [
        {
          "output_type": "stream",
          "name": "stdout",
          "text": [
            "143\n"
          ]
        }
      ],
      "source": [
        "\n",
        "\n",
        "for c_story in stories['clean_story']:\n",
        "  corpus = corpus + \n",
        "\n",
        "corpus = set(corpus)\n",
        "\n",
        "wtokens = nltk.word_tokenize(str(corpus))\n",
        "print(len(wtokens))     # Number of words in text \n",
        "\n",
        "fdist = nltk.FreqDist(corpus)\n"
      ]
    },
    {
      "cell_type": "code",
      "source": [
        "corpus"
      ],
      "metadata": {
        "colab": {
          "base_uri": "https://localhost:8080/"
        },
        "id": "y82jlh2FnDgH",
        "outputId": "fcd80012-3b67-4344-aeef-299839a6ff21"
      },
      "execution_count": null,
      "outputs": [
        {
          "output_type": "execute_result",
          "data": {
            "text/plain": [
              "{' ',\n",
              " '0',\n",
              " '1',\n",
              " '2',\n",
              " '3',\n",
              " '4',\n",
              " '5',\n",
              " '6',\n",
              " '7',\n",
              " '8',\n",
              " '9',\n",
              " 'a',\n",
              " 'b',\n",
              " 'c',\n",
              " 'd',\n",
              " 'e',\n",
              " 'f',\n",
              " 'g',\n",
              " 'h',\n",
              " 'i',\n",
              " 'j',\n",
              " 'k',\n",
              " 'l',\n",
              " 'm',\n",
              " 'n',\n",
              " 'o',\n",
              " 'p',\n",
              " 'q',\n",
              " 'r',\n",
              " 's',\n",
              " 't',\n",
              " 'u',\n",
              " 'v',\n",
              " 'w',\n",
              " 'x',\n",
              " 'y',\n",
              " 'z'}"
            ]
          },
          "metadata": {},
          "execution_count": 64
        }
      ]
    },
    {
      "cell_type": "code",
      "source": [
        "import seaborn as sns\n",
        "import matplotlib.pyplot as plt\n",
        "\n",
        "\n",
        "def freq_words(x, terms = 30): \n",
        "  words_df = pd.DataFrame({'word':list(fdist.keys()), 'count':list(fdist.values())}) \n",
        "  \n",
        "  # selecting top 20 most frequent words \n",
        "  d = words_df.nlargest(columns=\"count\", n = terms) \n",
        "  \n",
        "  # visualize words and frequencies\n",
        "  plt.figure(figsize=(6,12)) \n",
        "  ax = sns.barplot(data=d, x= \"count\", y = \"word\") \n",
        "  ax.set(ylabel = 'Word') \n",
        "  plt.show()\n",
        "  \n",
        "freq_words(wtokens)"
      ],
      "metadata": {
        "colab": {
          "base_uri": "https://localhost:8080/",
          "height": 714
        },
        "id": "LrMf8ZBCjmd5",
        "outputId": "19767be0-0412-4e51-db70-c68a947076f8"
      },
      "execution_count": null,
      "outputs": [
        {
          "output_type": "display_data",
          "data": {
            "text/plain": [
              "<Figure size 432x864 with 1 Axes>"
            ],
            "image/png": "[encoded data removed]"
          },
          "metadata": {
            "needs_background": "light"
          }
        }
      ]
    },
    {
      "cell_type": "code",
      "source": [
        "print('Processed:', len(list(fdist.keys())), ' | Raw:', len(corpus))"
      ],
      "metadata": {
        "colab": {
          "base_uri": "https://localhost:8080/"
        },
        "id": "OO8KT55hi0kR",
        "outputId": "b0e36d59-f26d-4865-8227-2ce533c57f53"
      },
      "execution_count": null,
      "outputs": [
        {
          "output_type": "stream",
          "name": "stdout",
          "text": [
            "Processed: 26815  | Raw: 2910\n"
          ]
        }
      ]
    }
  ],
  "metadata": {
    "colab": {
      "name": "MA5851_A2_Mark_Limmage.ipynb",
      "provenance": [],
      "mount_file_id": "1qef6PuKjs6CvCK9E2uNKNLlh6uSQsRV2",
      "authorship_tag": "ABX9TyNmCtRmQI/jISKvdfsAVj8Y",
      "include_colab_link": true
    },
    "kernelspec": {
      "display_name": "Python 3",
      "name": "python3"
    },
    "language_info": {
      "name": "python"
    }
  },
  "nbformat": 4,
  "nbformat_minor": 0
}